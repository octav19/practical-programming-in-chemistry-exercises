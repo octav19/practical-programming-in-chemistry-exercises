{
 "cells": [
  {
   "cell_type": "markdown",
   "metadata": {},
   "source": [
    "### Python Exercise: Converting a Script to a Package\n",
    "\n",
    "In this exercise, you'll learn how to convert a Python script into a Python package. Packaging your code is an essential skill in software development as it promotes code reusability, maintainability, and distribution.\n",
    "\n",
    "The goal of the exercise is to take the existing `amremover_script.py` file, which contains functions for removing atom mapping numbers from SMILES (Simplified Molecular Input Line Entry System) strings and canonicalizing them, and restructure it into a Python package called `amremover_package`.\n",
    "\n",
    "There are situations where you would like to have your SMILES without atom-mapping. Although, you could remove them by hand for a few reactions, it is convenient to automate atom-mapping removal with a Python tool. \n",
    "\n",
    "The `amremover_script.py` file contains the following code (to view the full code open the actual file):\n",
    "\n",
    "```python\n",
    "# amremover_script.py\n",
    "import re\n",
    "from rdkit import Chem\n",
    "\n",
    "def remove_atom_mapping(smiles: str) -> str:\n",
    "    ...\n",
    "\n",
    "def canonicalize_smiles(smiles: str) -> str:\n",
    "    ...\n",
    "\n",
    "def remove_atom_mapping_and_canonicalize_rxn_smiles(smiles: str) -> str:\n",
    "    ...\n",
    "\n",
    "rxn_smiles_with_atom_mapping = '[CH3:17][S:14](=[O:15])(=[O:16])[N:11]1[CH2:10][CH2:9][N:8](Cc2ccccc2)[CH2:13][CH2:12]1.C1CCCCC1>[OH-].[OH-].[Pd+2].CCO>[CH3:17][S:14](=[O:15])(=[O:16])[N:11]1[CH2:10][CH2:9][NH:8][CH2:13][CH2:12]1'\n",
    "\n",
    "print(f\"RXN SMILES with atom mapping: {rxn_smiles_with_atom_mapping}\")\n",
    "print(\"*** Remove atom mapping ***\")\n",
    "rxn_smiles_without_atom_mapping = remove_atom_mapping_and_canonicalize_rxn_smiles(rxn_smiles_with_atom_mapping)\n",
    "print(f\"RXN SMILES without atom mapping: {rxn_smiles_without_atom_mapping}\")\n",
    "```\n",
    "\n",
    "We can run this script even from a Jupyter notebook, using the `!` character to execute code in the shell. \n"
   ]
  },
  {
   "cell_type": "code",
   "execution_count": 1,
   "metadata": {},
   "outputs": [
    {
     "name": "stdout",
     "output_type": "stream",
     "text": [
      "Collecting rdkit\n",
      "  Downloading rdkit-2023.9.6-cp310-cp310-win_amd64.whl.metadata (4.0 kB)\n",
      "Collecting numpy (from rdkit)\n",
      "  Using cached numpy-1.26.4-cp310-cp310-win_amd64.whl.metadata (61 kB)\n",
      "Collecting Pillow (from rdkit)\n",
      "  Using cached pillow-10.3.0-cp310-cp310-win_amd64.whl.metadata (9.4 kB)\n",
      "Downloading rdkit-2023.9.6-cp310-cp310-win_amd64.whl (21.0 MB)\n",
      "   ---------------------------------------- 0.0/21.0 MB ? eta -:--:--\n",
      "   ---------------------------------------- 0.0/21.0 MB ? eta -:--:--\n",
      "   ---------------------------------------- 0.0/21.0 MB 330.3 kB/s eta 0:01:04\n",
      "   ---------------------------------------- 0.1/21.0 MB 871.5 kB/s eta 0:00:24\n",
      "   - -------------------------------------- 0.8/21.0 MB 5.4 MB/s eta 0:00:04\n",
      "   -- ------------------------------------- 1.4/21.0 MB 7.3 MB/s eta 0:00:03\n",
      "   --- ------------------------------------ 2.0/21.0 MB 8.6 MB/s eta 0:00:03\n",
      "   ----- ---------------------------------- 2.7/21.0 MB 9.4 MB/s eta 0:00:02\n",
      "   ------ --------------------------------- 3.3/21.0 MB 10.0 MB/s eta 0:00:02\n",
      "   ------- -------------------------------- 3.9/21.0 MB 10.5 MB/s eta 0:00:02\n",
      "   -------- ------------------------------- 4.6/21.0 MB 10.8 MB/s eta 0:00:02\n",
      "   --------- ------------------------------ 5.2/21.0 MB 11.0 MB/s eta 0:00:02\n",
      "   ----------- ---------------------------- 5.8/21.0 MB 11.3 MB/s eta 0:00:02\n",
      "   ------------ --------------------------- 6.4/21.0 MB 11.4 MB/s eta 0:00:02\n",
      "   ------------- -------------------------- 7.1/21.0 MB 11.6 MB/s eta 0:00:02\n",
      "   -------------- ------------------------- 7.7/21.0 MB 11.7 MB/s eta 0:00:02\n",
      "   --------------- ------------------------ 8.3/21.0 MB 11.9 MB/s eta 0:00:02\n",
      "   ---------------- ----------------------- 8.8/21.0 MB 11.9 MB/s eta 0:00:02\n",
      "   ------------------ --------------------- 9.6/21.0 MB 12.0 MB/s eta 0:00:01\n",
      "   ------------------- -------------------- 10.3/21.0 MB 12.6 MB/s eta 0:00:01\n",
      "   -------------------- ------------------- 10.9/21.0 MB 13.4 MB/s eta 0:00:01\n",
      "   --------------------- ------------------ 11.5/21.0 MB 13.4 MB/s eta 0:00:01\n",
      "   ----------------------- ---------------- 12.1/21.0 MB 13.4 MB/s eta 0:00:01\n",
      "   ------------------------ --------------- 12.7/21.0 MB 13.4 MB/s eta 0:00:01\n",
      "   ------------------------- -------------- 13.4/21.0 MB 13.4 MB/s eta 0:00:01\n",
      "   -------------------------- ------------- 14.0/21.0 MB 13.4 MB/s eta 0:00:01\n",
      "   --------------------------- ------------ 14.6/21.0 MB 13.4 MB/s eta 0:00:01\n",
      "   ----------------------------- ---------- 15.3/21.0 MB 13.4 MB/s eta 0:00:01\n",
      "   ------------------------------ --------- 15.9/21.0 MB 13.4 MB/s eta 0:00:01\n",
      "   ------------------------------- -------- 16.5/21.0 MB 13.4 MB/s eta 0:00:01\n",
      "   -------------------------------- ------- 17.2/21.0 MB 13.4 MB/s eta 0:00:01\n",
      "   --------------------------------- ------ 17.8/21.0 MB 13.4 MB/s eta 0:00:01\n",
      "   ----------------------------------- ---- 18.4/21.0 MB 13.4 MB/s eta 0:00:01\n",
      "   ------------------------------------ --- 19.0/21.0 MB 13.6 MB/s eta 0:00:01\n",
      "   ------------------------------------- -- 19.7/21.0 MB 13.4 MB/s eta 0:00:01\n",
      "   -------------------------------------- - 20.3/21.0 MB 13.4 MB/s eta 0:00:01\n",
      "   ---------------------------------------  20.9/21.0 MB 13.6 MB/s eta 0:00:01\n",
      "   ---------------------------------------- 21.0/21.0 MB 12.8 MB/s eta 0:00:00\n",
      "Using cached numpy-1.26.4-cp310-cp310-win_amd64.whl (15.8 MB)\n",
      "Using cached pillow-10.3.0-cp310-cp310-win_amd64.whl (2.5 MB)\n",
      "Installing collected packages: Pillow, numpy, rdkit\n",
      "Successfully installed Pillow-10.3.0 numpy-1.26.4 rdkit-2023.9.6\n"
     ]
    }
   ],
   "source": [
    "!pip install rdkit"
   ]
  },
  {
   "cell_type": "code",
   "execution_count": 2,
   "metadata": {},
   "outputs": [
    {
     "name": "stdout",
     "output_type": "stream",
     "text": [
      "RXN SMILES with atom mapping: [CH3:17][S:14](=[O:15])(=[O:16])[N:11]1[CH2:10][CH2:9][N:8](Cc2ccccc2)[CH2:13][CH2:12]1.C1CCCCC1>[OH-].[OH-].[Pd+2].CCO>[CH3:17][S:14](=[O:15])(=[O:16])[N:11]1[CH2:10][CH2:9][NH:8][CH2:13][CH2:12]1\n",
      "*** Remove atom mapping ***\n",
      "RXN SMILES without atom mapping: C1CCCCC1.CS(=O)(=O)N1CCN(Cc2ccccc2)CC1>CCO.[OH-].[OH-].[Pd+2]>CS(=O)(=O)N1CCNCC1\n"
     ]
    }
   ],
   "source": [
    "!python amremover_script.py"
   ]
  },
  {
   "cell_type": "markdown",
   "metadata": {},
   "source": [
    "Or import the function and execute it here:"
   ]
  },
  {
   "cell_type": "code",
   "execution_count": 3,
   "metadata": {},
   "outputs": [
    {
     "name": "stdout",
     "output_type": "stream",
     "text": [
      "RXN SMILES with atom mapping: [CH3:17][S:14](=[O:15])(=[O:16])[N:11]1[CH2:10][CH2:9][N:8](Cc2ccccc2)[CH2:13][CH2:12]1.C1CCCCC1>[OH-].[OH-].[Pd+2].CCO>[CH3:17][S:14](=[O:15])(=[O:16])[N:11]1[CH2:10][CH2:9][NH:8][CH2:13][CH2:12]1\n",
      "*** Remove atom mapping ***\n",
      "RXN SMILES without atom mapping: C1CCCCC1.CS(=O)(=O)N1CCN(Cc2ccccc2)CC1>CCO.[OH-].[OH-].[Pd+2]>CS(=O)(=O)N1CCNCC1\n",
      "RXN SMILES with atom mapping: [CH3:17][S:14](=[O:15])(=[O:16])[N:11]1[CH2:10][CH2:9][N:8](Cc2ccccc2)[CH2:13][CH2:12]1.C1CCCCC1>[OH-].[OH-].[Pd+2].CCO>[CH3:17][S:14](=[O:15])(=[O:16])[N:11]1[CH2:10][CH2:9][NH:8][CH2:13][CH2:12]1\n",
      "*** Remove atom mapping ***\n",
      "RXN SMILES without atom mapping: C1CCCCC1.CS(=O)(=O)N1CCN(Cc2ccccc2)CC1>CCO.[OH-].[OH-].[Pd+2]>CS(=O)(=O)N1CCNCC1\n"
     ]
    }
   ],
   "source": [
    "from amremover_script import remove_atom_mapping_and_canonicalize_rxn_smiles\n",
    "\n",
    "rxn_smiles_with_atom_mapping = '[CH3:17][S:14](=[O:15])(=[O:16])[N:11]1[CH2:10][CH2:9][N:8](Cc2ccccc2)[CH2:13][CH2:12]1.C1CCCCC1>[OH-].[OH-].[Pd+2].CCO>[CH3:17][S:14](=[O:15])(=[O:16])[N:11]1[CH2:10][CH2:9][NH:8][CH2:13][CH2:12]1'\n",
    "\n",
    "print(f\"RXN SMILES with atom mapping: {rxn_smiles_with_atom_mapping}\")\n",
    "print(\"*** Remove atom mapping ***\")\n",
    "rxn_smiles_without_atom_mapping = remove_atom_mapping_and_canonicalize_rxn_smiles(rxn_smiles_with_atom_mapping)\n",
    "print(f\"RXN SMILES without atom mapping: {rxn_smiles_without_atom_mapping}\")"
   ]
  },
  {
   "cell_type": "markdown",
   "metadata": {},
   "source": [
    "\n",
    "\n",
    "While this script works as intended, it lacks the structure and organization that a Python package provides. By converting it into a package, you'll learn how to organize your code into modules, set up package metadata, and create a distributable version of your software.\n",
    "\n",
    "To get started, you'll be provided with a minimal template for the `amremover_package` folder. Your task is to:\n",
    "\n",
    "1. Analyze the existing code in `amremover_script.py`.\n",
    "2. Determine the appropriate file structure and module organization for the package.\n",
    "3. Move the code from `amremover_script.py` into the corresponding files within the package.\n",
    "4. Make sure to specify `rdkit` as a dependency. \n",
    "5. Ensure that the package is properly configured and can be installed using `pip install -e .`.\n",
    "\n",
    "Throughout the exercise, you'll learn about essential package components like `pyproject.toml`, `__init__.py`, `if __name__ == '__main__:'`, and module organization. By the end, you'll have a better understanding of how to structure and distribute your Python code as a reusable package.\n",
    "\n",
    "You can always come back here and check whether you have managed to create the package successfully:"
   ]
  },
  {
   "cell_type": "code",
   "execution_count": null,
   "metadata": {},
   "outputs": [],
   "source": []
  },
  {
   "cell_type": "code",
   "execution_count": 1,
   "metadata": {},
   "outputs": [
    {
     "name": "stdout",
     "output_type": "stream",
     "text": [
      "Processing c:\\users\\tossol\\prog-chem-ex\\week_07\\exercise_02\\amremover_package_1\n",
      "  Installing build dependencies: started\n",
      "  Installing build dependencies: finished with status 'done'\n",
      "  Getting requirements to build wheel: started\n",
      "  Getting requirements to build wheel: finished with status 'done'\n",
      "  Preparing metadata (pyproject.toml): started\n",
      "  Preparing metadata (pyproject.toml): finished with status 'done'\n",
      "Requirement already satisfied: rdkit in c:\\users\\tossol\\miniconda3\\envs\\w7_reactions\\lib\\site-packages (from amremover==0.0.1) (2023.9.6)\n",
      "Requirement already satisfied: numpy in c:\\users\\tossol\\miniconda3\\envs\\w7_reactions\\lib\\site-packages (from rdkit->amremover==0.0.1) (1.26.4)\n",
      "Requirement already satisfied: Pillow in c:\\users\\tossol\\miniconda3\\envs\\w7_reactions\\lib\\site-packages (from rdkit->amremover==0.0.1) (10.3.0)\n",
      "Building wheels for collected packages: amremover\n",
      "  Building wheel for amremover (pyproject.toml): started\n",
      "  Building wheel for amremover (pyproject.toml): finished with status 'done'\n",
      "  Created wheel for amremover: filename=amremover-0.0.1-py2.py3-none-any.whl size=1957 sha256=d46a9df3132fb87777e41425573c6dcf7f9d450f8493007977b0e0749f906d97\n",
      "  Stored in directory: C:\\Users\\Tossol\\AppData\\Local\\Temp\\pip-ephem-wheel-cache-_3uykiw1\\wheels\\1d\\f5\\df\\50dfe81fa9f8e1d8889c6dbe9c55daa824e992ab05041b6259\n",
      "Successfully built amremover\n",
      "Installing collected packages: amremover\n",
      "  Attempting uninstall: amremover\n",
      "    Found existing installation: amremover 0.0.1\n",
      "    Uninstalling amremover-0.0.1:\n",
      "      Successfully uninstalled amremover-0.0.1\n",
      "Successfully installed amremover-0.0.1\n",
      "CCN(C(C)C)C(C)C.O=C(OCc1ccccc1)N1CCNCC1.O=c1cc(Cl)nc[nH]1>CCC(C)O>O=C(OCc1ccccc1)N1CCN(c2cc(=O)[nH]cn2)CC1\n"
     ]
    }
   ],
   "source": [
    "\n",
    "!pip install ./amremover_package_1\n",
    "from amremover_package import amremover_module\n",
    "from amremover_package.amremover_module import remove_atom_mapping_and_canonicalize_rxn_smiles\n",
    "\n",
    "rxn_smiles_with_atom_mapping = 'CCN(C(C)C)C(C)C.[O:16]=[C:15]([O:17][CH2:18][c:19]1[cH:20][cH:21][cH:22][cH:23][cH:24]1)[N:9]1[CH2:10][CH2:11][NH:12][CH2:13][CH2:14]1.[O:8]=[c:4]1[cH:3][c:2](Cl)[n:7][cH:6][nH:5]1>CCC(C)O>[O:16]=[C:15]([O:17][CH2:18][c:19]1[cH:20][cH:21][cH:22][cH:23][cH:24]1)[N:9]1[CH2:10][CH2:11][N:12]([c:2]2[cH:3][c:4](=[O:8])[nH:5][cH:6][n:7]2)[CH2:13][CH2:14]1'\n",
    "\n",
    "rxn_smiles_without_atom_mapping = remove_atom_mapping_and_canonicalize_rxn_smiles(rxn_smiles_with_atom_mapping)\n",
    "\n",
    "print(rxn_smiles_without_atom_mapping)\n",
    "\n",
    "assert rxn_smiles_without_atom_mapping == 'CCN(C(C)C)C(C)C.O=C(OCc1ccccc1)N1CCNCC1.O=c1cc(Cl)nc[nH]1>CCC(C)O>O=C(OCc1ccccc1)N1CCN(c2cc(=O)[nH]cn2)CC1'"
   ]
  },
  {
   "cell_type": "markdown",
   "metadata": {},
   "source": [
    "# What could be a next step (optional, advanced)\n",
    "\n",
    "Explore [Typer](https://typer.tiangolo.com) to add a command line interface to the amremover_package. \n",
    "\n",
    "The goal of this part would be to be able to run:"
   ]
  },
  {
   "cell_type": "markdown",
   "metadata": {},
   "source": [
    "!amremover \"CCN(C(C)C)C(C)C.[O:16]=[C:15]([O:17][CH2:18][c:19]1[cH:20][cH:21][cH:22][cH:23][cH:24]1)[N:9]1[CH2:10][CH2:11][NH:12][CH2:13][CH2:14]1.[O:8]=[c:4]1[cH:3][c:2](Cl)[n:7][cH:6][nH:5]1>CCC(C)O>[O:16]=[C:15]([O:17][CH2:18][c:19]1[cH:20][cH:21][cH:22][cH:23][cH:24]1)[N:9]1[CH2:10][CH2:11][N:12]([c:2]2[cH:3][c:4](=[O:8])[nH:5][cH:6][n:7]2)[CH2:13][CH2:14]1\" "
   ]
  },
  {
   "cell_type": "markdown",
   "metadata": {},
   "source": [
    "and it should print the canonicalized reaction SMILES without atom mapping: \n",
    "```\n",
    "CCN(C(C)C)C(C)C.O=C(OCc1ccccc1)N1CCNCC1.O=c1cc(Cl)nc[nH]1>CCC(C)O>O=C(OCc1ccccc1)N1CCN(c2cc(=O)[nH]cn2)CC1\n",
    "```"
   ]
  },
  {
   "cell_type": "markdown",
   "metadata": {},
   "source": []
  }
 ],
 "metadata": {
  "kernelspec": {
   "display_name": "Python 3 (ipykernel)",
   "language": "python",
   "name": "python3"
  },
  "language_info": {
   "codemirror_mode": {
    "name": "ipython",
    "version": 3
   },
   "file_extension": ".py",
   "mimetype": "text/x-python",
   "name": "python",
   "nbconvert_exporter": "python",
   "pygments_lexer": "ipython3",
   "version": "3.10.13"
  }
 },
 "nbformat": 4,
 "nbformat_minor": 4
}
