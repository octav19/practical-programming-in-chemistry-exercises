{
 "cells": [
  {
   "cell_type": "markdown",
   "id": "6ea1be65-e1e1-4259-bb87-c2d7a526341f",
   "metadata": {},
   "source": [
    "# DRFP - Reaction fingerprint\n",
    "\n",
    "DRFP is a reaction fingerprint developed by Probst et al.. \n",
    "\n",
    "Here we will just perform a quick test that it is correctly installed to show you the different ways of installing it.\n",
    "\n",
    "To display the path to the activated conda environment, we can run:"
   ]
  },
  {
   "cell_type": "code",
   "execution_count": 1,
   "id": "72d03e42-596e-4bf7-ad5f-ae5e53c470a9",
   "metadata": {},
   "outputs": [
    {
     "name": "stdout",
     "output_type": "stream",
     "text": [
      "C:\\Users\\Tossol\\miniconda3\\envs\\drfp_source\n"
     ]
    }
   ],
   "source": [
    "import sys \n",
    "print(sys.prefix)"
   ]
  },
  {
   "cell_type": "markdown",
   "id": "bb117f3b-7ff4-495a-a9e6-9914efc54a04",
   "metadata": {},
   "source": [
    "This should end with `drfp_env`, if you followed the tutorial in the README.\n",
    "\n",
    "We can also check where we installed the `drfp` package."
   ]
  },
  {
   "cell_type": "code",
   "execution_count": 2,
   "id": "a2082807-2463-4a35-a2f1-5f6bfab16970",
   "metadata": {},
   "outputs": [
    {
     "name": "stdout",
     "output_type": "stream",
     "text": [
      "DRFP installed in: C:\\Users\\Tossol\\drfp\\drfp\\src\\drfp\\__init__.py\n"
     ]
    }
   ],
   "source": [
    "import drfp\n",
    "print(\"DRFP installed in:\", drfp.__file__)"
   ]
  },
  {
   "cell_type": "markdown",
   "id": "a4ed33f4-6dd3-4366-a830-b93b8bd6de73",
   "metadata": {},
   "source": [
    "Those two checks were mainly to show you how the python package installation is working.\n",
    "\n",
    "Now, we need to import the reaction encoder (`DrfpEncoder`)\n",
    "\n",
    "### Testing DRFP"
   ]
  },
  {
   "cell_type": "code",
   "execution_count": 3,
   "id": "1c42f92a-3450-4f0e-822e-3fefd9798ead",
   "metadata": {},
   "outputs": [],
   "source": [
    "from drfp import DrfpEncoder"
   ]
  },
  {
   "cell_type": "markdown",
   "id": "67615523-ad08-4616-9041-5d48568a1194",
   "metadata": {},
   "source": [
    "Let's define a few reaction SMILES. If you want to see what they look like, you could use [CDK depict](https://www.simolecule.com/cdkdepict/depict.html)."
   ]
  },
  {
   "cell_type": "code",
   "execution_count": 4,
   "id": "5514ae5b-70ea-4493-8343-462d6e29bdc4",
   "metadata": {},
   "outputs": [],
   "source": [
    "rxn_smiles = [\n",
    "    \"CO.O[C@@H]1CCNC1.[C-]#[N+]CC(=O)OC>>[C-]#[N+]CC(=O)N1CC[C@@H](O)C1\",\n",
    "    \"CCOC(=O)C(CC)c1cccnc1.Cl.O>>CCC(C(=O)O)c1cccnc1\",\n",
    "]"
   ]
  },
  {
   "cell_type": "code",
   "execution_count": 5,
   "id": "dea655f5-8ec0-4681-bca8-4f4e26466a98",
   "metadata": {},
   "outputs": [
    {
     "ename": "OverflowError",
     "evalue": "Python int too large to convert to C long",
     "output_type": "error",
     "traceback": [
      "\u001b[1;31m---------------------------------------------------------------------------\u001b[0m",
      "\u001b[1;31mOverflowError\u001b[0m                             Traceback (most recent call last)",
      "Cell \u001b[1;32mIn[5], line 1\u001b[0m\n\u001b[1;32m----> 1\u001b[0m fps \u001b[38;5;241m=\u001b[39m \u001b[43mDrfpEncoder\u001b[49m\u001b[38;5;241;43m.\u001b[39;49m\u001b[43mencode\u001b[49m\u001b[43m(\u001b[49m\u001b[43mrxn_smiles\u001b[49m\u001b[43m)\u001b[49m\n\u001b[0;32m      2\u001b[0m fps\n",
      "File \u001b[1;32m~\\drfp\\drfp\\src\\drfp\\fingerprint.py:342\u001b[0m, in \u001b[0;36mDrfpEncoder.encode\u001b[1;34m(X, n_folded_length, min_radius, radius, rings, mapping, atom_index_mapping, root_central_atom, include_hydrogens, show_progress_bar)\u001b[0m\n\u001b[0;32m    332\u001b[0m     hashed_diff, smiles_diff, atom_index_map \u001b[38;5;241m=\u001b[39m DrfpEncoder\u001b[38;5;241m.\u001b[39minternal_encode(\n\u001b[0;32m    333\u001b[0m         x,\n\u001b[0;32m    334\u001b[0m         min_radius\u001b[38;5;241m=\u001b[39mmin_radius,\n\u001b[1;32m   (...)\u001b[0m\n\u001b[0;32m    339\u001b[0m         include_hydrogens\u001b[38;5;241m=\u001b[39minclude_hydrogens,\n\u001b[0;32m    340\u001b[0m     )\n\u001b[0;32m    341\u001b[0m \u001b[38;5;28;01melse\u001b[39;00m:\n\u001b[1;32m--> 342\u001b[0m     hashed_diff, smiles_diff \u001b[38;5;241m=\u001b[39m \u001b[43mDrfpEncoder\u001b[49m\u001b[38;5;241;43m.\u001b[39;49m\u001b[43minternal_encode\u001b[49m\u001b[43m(\u001b[49m\n\u001b[0;32m    343\u001b[0m \u001b[43m        \u001b[49m\u001b[43mx\u001b[49m\u001b[43m,\u001b[49m\n\u001b[0;32m    344\u001b[0m \u001b[43m        \u001b[49m\u001b[43mmin_radius\u001b[49m\u001b[38;5;241;43m=\u001b[39;49m\u001b[43mmin_radius\u001b[49m\u001b[43m,\u001b[49m\n\u001b[0;32m    345\u001b[0m \u001b[43m        \u001b[49m\u001b[43mradius\u001b[49m\u001b[38;5;241;43m=\u001b[39;49m\u001b[43mradius\u001b[49m\u001b[43m,\u001b[49m\n\u001b[0;32m    346\u001b[0m \u001b[43m        \u001b[49m\u001b[43mrings\u001b[49m\u001b[38;5;241;43m=\u001b[39;49m\u001b[43mrings\u001b[49m\u001b[43m,\u001b[49m\n\u001b[0;32m    347\u001b[0m \u001b[43m        \u001b[49m\u001b[43mroot_central_atom\u001b[49m\u001b[38;5;241;43m=\u001b[39;49m\u001b[43mroot_central_atom\u001b[49m\u001b[43m,\u001b[49m\n\u001b[0;32m    348\u001b[0m \u001b[43m        \u001b[49m\u001b[43minclude_hydrogens\u001b[49m\u001b[38;5;241;43m=\u001b[39;49m\u001b[43minclude_hydrogens\u001b[49m\u001b[43m,\u001b[49m\n\u001b[0;32m    349\u001b[0m \u001b[43m    \u001b[49m\u001b[43m)\u001b[49m\n\u001b[0;32m    351\u001b[0m difference_folded, on_bits \u001b[38;5;241m=\u001b[39m DrfpEncoder\u001b[38;5;241m.\u001b[39mfold(\n\u001b[0;32m    352\u001b[0m     hashed_diff,\n\u001b[0;32m    353\u001b[0m     length\u001b[38;5;241m=\u001b[39mn_folded_length,\n\u001b[0;32m    354\u001b[0m )\n\u001b[0;32m    356\u001b[0m \u001b[38;5;28;01mif\u001b[39;00m mapping:\n",
      "File \u001b[1;32m~\\drfp\\drfp\\src\\drfp\\fingerprint.py:243\u001b[0m, in \u001b[0;36mDrfpEncoder.internal_encode\u001b[1;34m(in_smiles, radius, min_radius, rings, get_atom_indices, root_central_atom, include_hydrogens)\u001b[0m\n\u001b[0;32m    241\u001b[0m     \u001b[38;5;28;01mreturn\u001b[39;00m DrfpEncoder\u001b[38;5;241m.\u001b[39mhash(\u001b[38;5;28mlist\u001b[39m(s)), \u001b[38;5;28mlist\u001b[39m(s), atom_indices\n\u001b[0;32m    242\u001b[0m \u001b[38;5;28;01melse\u001b[39;00m:\n\u001b[1;32m--> 243\u001b[0m     \u001b[38;5;28;01mreturn\u001b[39;00m \u001b[43mDrfpEncoder\u001b[49m\u001b[38;5;241;43m.\u001b[39;49m\u001b[43mhash\u001b[49m\u001b[43m(\u001b[49m\u001b[38;5;28;43mlist\u001b[39;49m\u001b[43m(\u001b[49m\u001b[43ms\u001b[49m\u001b[43m)\u001b[49m\u001b[43m)\u001b[49m, \u001b[38;5;28mlist\u001b[39m(s)\n",
      "File \u001b[1;32m~\\drfp\\drfp\\src\\drfp\\fingerprint.py:261\u001b[0m, in \u001b[0;36mDrfpEncoder.hash\u001b[1;34m(shingling)\u001b[0m\n\u001b[0;32m    258\u001b[0m \u001b[38;5;28;01mfor\u001b[39;00m t \u001b[38;5;129;01min\u001b[39;00m shingling:\n\u001b[0;32m    259\u001b[0m     hash_values\u001b[38;5;241m.\u001b[39mappend(\u001b[38;5;28mint\u001b[39m(blake2b(t, digest_size\u001b[38;5;241m=\u001b[39m\u001b[38;5;241m4\u001b[39m)\u001b[38;5;241m.\u001b[39mhexdigest(), \u001b[38;5;241m16\u001b[39m))\n\u001b[1;32m--> 261\u001b[0m \u001b[38;5;28;01mreturn\u001b[39;00m \u001b[43mnp\u001b[49m\u001b[38;5;241;43m.\u001b[39;49m\u001b[43marray\u001b[49m\u001b[43m(\u001b[49m\u001b[43mhash_values\u001b[49m\u001b[43m,\u001b[49m\u001b[43m \u001b[49m\u001b[43mdtype\u001b[49m\u001b[38;5;241;43m=\u001b[39;49m\u001b[43mnp\u001b[49m\u001b[38;5;241;43m.\u001b[39;49m\u001b[43mint32\u001b[49m\u001b[43m)\u001b[49m\n",
      "\u001b[1;31mOverflowError\u001b[0m: Python int too large to convert to C long"
     ]
    }
   ],
   "source": [
    "fps = DrfpEncoder.encode(rxn_smiles)\n",
    "fps"
   ]
  },
  {
   "cell_type": "markdown",
   "id": "c4bb0788-da88-494c-a464-555d64556938",
   "metadata": {},
   "source": [
    "Now, go back to the README, and complete the installation from source in another environment."
   ]
  },
  {
   "cell_type": "code",
   "execution_count": null,
   "id": "85750285-550f-467a-a174-8cc776c7bcac",
   "metadata": {},
   "outputs": [],
   "source": []
  }
 ],
 "metadata": {
  "kernelspec": {
   "display_name": "Python 3 (ipykernel)",
   "language": "python",
   "name": "python3"
  },
  "language_info": {
   "codemirror_mode": {
    "name": "ipython",
    "version": 3
   },
   "file_extension": ".py",
   "mimetype": "text/x-python",
   "name": "python",
   "nbconvert_exporter": "python",
   "pygments_lexer": "ipython3",
   "version": "3.10.14"
  }
 },
 "nbformat": 4,
 "nbformat_minor": 5
}
