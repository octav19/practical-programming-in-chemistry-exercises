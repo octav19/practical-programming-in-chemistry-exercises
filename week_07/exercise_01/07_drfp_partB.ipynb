{
 "cells": [
  {
   "cell_type": "markdown",
   "id": "6ea1be65-e1e1-4259-bb87-c2d7a526341f",
   "metadata": {},
   "source": [
    "# DRFP - Reaction fingerprint\n",
    "\n",
    "DRFP is a reaction fingerprint developed by Probst et al.. \n",
    "\n",
    "Here we will just perform a quick test that it is correctly installed to show you the different ways of installing it.\n",
    "\n",
    "To display the path to the activated conda environment, we can run:"
   ]
  },
  {
   "cell_type": "code",
   "execution_count": 6,
   "id": "72d03e42-596e-4bf7-ad5f-ae5e53c470a9",
   "metadata": {},
   "outputs": [
    {
     "name": "stdout",
     "output_type": "stream",
     "text": [
      "C:\\Users\\Tossol\\miniconda3\\envs\\drfp_source\n"
     ]
    }
   ],
   "source": [
    "import sys \n",
    "print(sys.prefix)"
   ]
  },
  {
   "cell_type": "markdown",
   "id": "bb117f3b-7ff4-495a-a9e6-9914efc54a04",
   "metadata": {},
   "source": [
    "This should end with `drfp_source`, if you followed the tutorial in the README\n",
    "\n",
    "We can also check where we installed the `drfp` package."
   ]
  },
  {
   "cell_type": "code",
   "execution_count": 7,
   "id": "a2082807-2463-4a35-a2f1-5f6bfab16970",
   "metadata": {},
   "outputs": [
    {
     "name": "stdout",
     "output_type": "stream",
     "text": [
      "DRFP installed in: C:\\Users\\Tossol\\drfp\\drfp\\src\\drfp\\__init__.py\n"
     ]
    }
   ],
   "source": [
    "import drfp\n",
    "print(\"DRFP installed in:\", drfp.__file__)"
   ]
  },
  {
   "cell_type": "markdown",
   "id": "a4ed33f4-6dd3-4366-a830-b93b8bd6de73",
   "metadata": {},
   "source": [
    "Those two checks were mainly to show you how the python package installation is working.\n",
    "\n",
    "Compare the `path` with what you had in the output in `partA`. As you installed it with `pip install -e .`, the \"editable\" flag (`-e`), the `__file__` path should point to a subfolder of where you downloaded `drfp`. \n",
    "\n",
    "Hence, all the changes you make to the code in that folder, will be immediately reflected in your installation. \n",
    "\n",
    "Now, we need to import the reaction encoder (`DrfpEncoder`)\n",
    "\n",
    "### Testing DRFP"
   ]
  },
  {
   "cell_type": "code",
   "execution_count": 8,
   "id": "1c42f92a-3450-4f0e-822e-3fefd9798ead",
   "metadata": {},
   "outputs": [],
   "source": [
    "from drfp import DrfpEncoder"
   ]
  },
  {
   "cell_type": "markdown",
   "id": "67615523-ad08-4616-9041-5d48568a1194",
   "metadata": {},
   "source": [
    "Let's define a few reaction SMILES. If you want to see what they look like, you could use [CDK depict](https://www.simolecule.com/cdkdepict/depict.html)."
   ]
  },
  {
   "cell_type": "code",
   "execution_count": 9,
   "id": "5514ae5b-70ea-4493-8343-462d6e29bdc4",
   "metadata": {},
   "outputs": [],
   "source": [
    "rxn_smiles = [\n",
    "    \"CO.O[C@@H]1CCNC1.[C-]#[N+]CC(=O)OC>>[C-]#[N+]CC(=O)N1CC[C@@H](O)C1\",\n",
    "    \"CCOC(=O)C(CC)c1cccnc1.Cl.O>>CCC(C(=O)O)c1cccnc1\",\n",
    "]"
   ]
  },
  {
   "cell_type": "code",
   "execution_count": 10,
   "id": "dea655f5-8ec0-4681-bca8-4f4e26466a98",
   "metadata": {},
   "outputs": [
    {
     "ename": "OverflowError",
     "evalue": "Python int too large to convert to C long",
     "output_type": "error",
     "traceback": [
      "\u001b[1;31m---------------------------------------------------------------------------\u001b[0m",
      "\u001b[1;31mOverflowError\u001b[0m                             Traceback (most recent call last)",
      "Cell \u001b[1;32mIn[10], line 1\u001b[0m\n\u001b[1;32m----> 1\u001b[0m fps \u001b[38;5;241m=\u001b[39m \u001b[43mDrfpEncoder\u001b[49m\u001b[38;5;241;43m.\u001b[39;49m\u001b[43mencode\u001b[49m\u001b[43m(\u001b[49m\u001b[43mrxn_smiles\u001b[49m\u001b[43m)\u001b[49m\n\u001b[0;32m      2\u001b[0m fps\n",
      "File \u001b[1;32m~\\drfp\\drfp\\src\\drfp\\fingerprint.py:342\u001b[0m, in \u001b[0;36mDrfpEncoder.encode\u001b[1;34m(X, n_folded_length, min_radius, radius, rings, mapping, atom_index_mapping, root_central_atom, include_hydrogens, show_progress_bar)\u001b[0m\n\u001b[0;32m    332\u001b[0m     hashed_diff, smiles_diff, atom_index_map \u001b[38;5;241m=\u001b[39m DrfpEncoder\u001b[38;5;241m.\u001b[39minternal_encode(\n\u001b[0;32m    333\u001b[0m         x,\n\u001b[0;32m    334\u001b[0m         min_radius\u001b[38;5;241m=\u001b[39mmin_radius,\n\u001b[1;32m   (...)\u001b[0m\n\u001b[0;32m    339\u001b[0m         include_hydrogens\u001b[38;5;241m=\u001b[39minclude_hydrogens,\n\u001b[0;32m    340\u001b[0m     )\n\u001b[0;32m    341\u001b[0m \u001b[38;5;28;01melse\u001b[39;00m:\n\u001b[1;32m--> 342\u001b[0m     hashed_diff, smiles_diff \u001b[38;5;241m=\u001b[39m \u001b[43mDrfpEncoder\u001b[49m\u001b[38;5;241;43m.\u001b[39;49m\u001b[43minternal_encode\u001b[49m\u001b[43m(\u001b[49m\n\u001b[0;32m    343\u001b[0m \u001b[43m        \u001b[49m\u001b[43mx\u001b[49m\u001b[43m,\u001b[49m\n\u001b[0;32m    344\u001b[0m \u001b[43m        \u001b[49m\u001b[43mmin_radius\u001b[49m\u001b[38;5;241;43m=\u001b[39;49m\u001b[43mmin_radius\u001b[49m\u001b[43m,\u001b[49m\n\u001b[0;32m    345\u001b[0m \u001b[43m        \u001b[49m\u001b[43mradius\u001b[49m\u001b[38;5;241;43m=\u001b[39;49m\u001b[43mradius\u001b[49m\u001b[43m,\u001b[49m\n\u001b[0;32m    346\u001b[0m \u001b[43m        \u001b[49m\u001b[43mrings\u001b[49m\u001b[38;5;241;43m=\u001b[39;49m\u001b[43mrings\u001b[49m\u001b[43m,\u001b[49m\n\u001b[0;32m    347\u001b[0m \u001b[43m        \u001b[49m\u001b[43mroot_central_atom\u001b[49m\u001b[38;5;241;43m=\u001b[39;49m\u001b[43mroot_central_atom\u001b[49m\u001b[43m,\u001b[49m\n\u001b[0;32m    348\u001b[0m \u001b[43m        \u001b[49m\u001b[43minclude_hydrogens\u001b[49m\u001b[38;5;241;43m=\u001b[39;49m\u001b[43minclude_hydrogens\u001b[49m\u001b[43m,\u001b[49m\n\u001b[0;32m    349\u001b[0m \u001b[43m    \u001b[49m\u001b[43m)\u001b[49m\n\u001b[0;32m    351\u001b[0m difference_folded, on_bits \u001b[38;5;241m=\u001b[39m DrfpEncoder\u001b[38;5;241m.\u001b[39mfold(\n\u001b[0;32m    352\u001b[0m     hashed_diff,\n\u001b[0;32m    353\u001b[0m     length\u001b[38;5;241m=\u001b[39mn_folded_length,\n\u001b[0;32m    354\u001b[0m )\n\u001b[0;32m    356\u001b[0m \u001b[38;5;28;01mif\u001b[39;00m mapping:\n",
      "File \u001b[1;32m~\\drfp\\drfp\\src\\drfp\\fingerprint.py:243\u001b[0m, in \u001b[0;36mDrfpEncoder.internal_encode\u001b[1;34m(in_smiles, radius, min_radius, rings, get_atom_indices, root_central_atom, include_hydrogens)\u001b[0m\n\u001b[0;32m    241\u001b[0m     \u001b[38;5;28;01mreturn\u001b[39;00m DrfpEncoder\u001b[38;5;241m.\u001b[39mhash(\u001b[38;5;28mlist\u001b[39m(s)), \u001b[38;5;28mlist\u001b[39m(s), atom_indices\n\u001b[0;32m    242\u001b[0m \u001b[38;5;28;01melse\u001b[39;00m:\n\u001b[1;32m--> 243\u001b[0m     \u001b[38;5;28;01mreturn\u001b[39;00m \u001b[43mDrfpEncoder\u001b[49m\u001b[38;5;241;43m.\u001b[39;49m\u001b[43mhash\u001b[49m\u001b[43m(\u001b[49m\u001b[38;5;28;43mlist\u001b[39;49m\u001b[43m(\u001b[49m\u001b[43ms\u001b[49m\u001b[43m)\u001b[49m\u001b[43m)\u001b[49m, \u001b[38;5;28mlist\u001b[39m(s)\n",
      "File \u001b[1;32m~\\drfp\\drfp\\src\\drfp\\fingerprint.py:261\u001b[0m, in \u001b[0;36mDrfpEncoder.hash\u001b[1;34m(shingling)\u001b[0m\n\u001b[0;32m    258\u001b[0m \u001b[38;5;28;01mfor\u001b[39;00m t \u001b[38;5;129;01min\u001b[39;00m shingling:\n\u001b[0;32m    259\u001b[0m     hash_values\u001b[38;5;241m.\u001b[39mappend(\u001b[38;5;28mint\u001b[39m(blake2b(t, digest_size\u001b[38;5;241m=\u001b[39m\u001b[38;5;241m4\u001b[39m)\u001b[38;5;241m.\u001b[39mhexdigest(), \u001b[38;5;241m16\u001b[39m))\n\u001b[1;32m--> 261\u001b[0m \u001b[38;5;28;01mreturn\u001b[39;00m \u001b[43mnp\u001b[49m\u001b[38;5;241;43m.\u001b[39;49m\u001b[43marray\u001b[49m\u001b[43m(\u001b[49m\u001b[43mhash_values\u001b[49m\u001b[43m,\u001b[49m\u001b[43m \u001b[49m\u001b[43mdtype\u001b[49m\u001b[38;5;241;43m=\u001b[39;49m\u001b[43mnp\u001b[49m\u001b[38;5;241;43m.\u001b[39;49m\u001b[43mint32\u001b[49m\u001b[43m)\u001b[49m\n",
      "\u001b[1;31mOverflowError\u001b[0m: Python int too large to convert to C long"
     ]
    }
   ],
   "source": [
    "fps = DrfpEncoder.encode(rxn_smiles)\n",
    "fps"
   ]
  },
  {
   "cell_type": "markdown",
   "id": "ab12b471-3d69-4402-8bdc-80adb43a28d3",
   "metadata": {},
   "source": [
    "### Visualize the bits\n",
    "\n",
    "We could visualize the bits with `matplotlib`, so let's try to do that."
   ]
  },
  {
   "cell_type": "code",
   "execution_count": 11,
   "id": "89282acf-3b8f-4b51-9116-816fcb65c03d",
   "metadata": {},
   "outputs": [],
   "source": [
    "import matplotlib.pyplot as plt\n",
    "import numpy as np"
   ]
  },
  {
   "cell_type": "markdown",
   "id": "add89cd9-6b1f-45b4-9916-f7e299d4ffe4",
   "metadata": {},
   "source": [
    "As you have created a new conda environment and not yet installed `matplotlib` this should results in a:\n",
    "\n",
    "```\n",
    "---------------------------------------------------------------------------\n",
    "ModuleNotFoundError                       Traceback (most recent call last)\n",
    "Cell In[6], line 1\n",
    "----> 1 import matplotlib.pyplot as plt\n",
    "      2 import numpy as np\n",
    "      4 # Sample arrays, replace these with your actual data\n",
    "\n",
    "ModuleNotFoundError: No module named 'matplotlib'\n",
    "```\n",
    "\n",
    "Conveniently, we can access the command line through a Jupyter notebook with `!`, and install `matplotlib` in the activate conda environment. "
   ]
  },
  {
   "cell_type": "code",
   "execution_count": 2,
   "id": "7174516b-d36d-4a7d-be49-2e5841047934",
   "metadata": {},
   "outputs": [
    {
     "name": "stdout",
     "output_type": "stream",
     "text": [
      "Collecting matplotlib\n",
      "  Downloading matplotlib-3.8.4-cp310-cp310-win_amd64.whl.metadata (5.9 kB)\n",
      "Collecting contourpy>=1.0.1 (from matplotlib)\n",
      "  Downloading contourpy-1.2.1-cp310-cp310-win_amd64.whl.metadata (5.8 kB)\n",
      "Collecting cycler>=0.10 (from matplotlib)\n",
      "  Using cached cycler-0.12.1-py3-none-any.whl.metadata (3.8 kB)\n",
      "Collecting fonttools>=4.22.0 (from matplotlib)\n",
      "  Downloading fonttools-4.51.0-cp310-cp310-win_amd64.whl.metadata (162 kB)\n",
      "     ---------------------------------------- 0.0/162.8 kB ? eta -:--:--\n",
      "     -- ------------------------------------- 10.2/162.8 kB ? eta -:--:--\n",
      "     ---------------------- ---------------- 92.2/162.8 kB 1.7 MB/s eta 0:00:01\n",
      "     -------------------------------------- 162.8/162.8 kB 2.4 MB/s eta 0:00:00\n",
      "Collecting kiwisolver>=1.3.1 (from matplotlib)\n",
      "  Using cached kiwisolver-1.4.5-cp310-cp310-win_amd64.whl.metadata (6.5 kB)\n",
      "Requirement already satisfied: numpy>=1.21 in c:\\users\\tossol\\miniconda3\\envs\\drfp_source\\lib\\site-packages (from matplotlib) (1.26.4)\n",
      "Requirement already satisfied: packaging>=20.0 in c:\\users\\tossol\\miniconda3\\envs\\drfp_source\\lib\\site-packages (from matplotlib) (23.2)\n",
      "Requirement already satisfied: pillow>=8 in c:\\users\\tossol\\miniconda3\\envs\\drfp_source\\lib\\site-packages (from matplotlib) (10.3.0)\n",
      "Collecting pyparsing>=2.3.1 (from matplotlib)\n",
      "  Using cached pyparsing-3.1.2-py3-none-any.whl.metadata (5.1 kB)\n",
      "Requirement already satisfied: python-dateutil>=2.7 in c:\\users\\tossol\\miniconda3\\envs\\drfp_source\\lib\\site-packages (from matplotlib) (2.8.2)\n",
      "Requirement already satisfied: six>=1.5 in c:\\users\\tossol\\miniconda3\\envs\\drfp_source\\lib\\site-packages (from python-dateutil>=2.7->matplotlib) (1.16.0)\n",
      "Downloading matplotlib-3.8.4-cp310-cp310-win_amd64.whl (7.7 MB)\n",
      "   ---------------------------------------- 0.0/7.7 MB ? eta -:--:--\n",
      "   -- ------------------------------------- 0.5/7.7 MB 11.1 MB/s eta 0:00:01\n",
      "   ----- ---------------------------------- 1.1/7.7 MB 11.5 MB/s eta 0:00:01\n",
      "   --------- ------------------------------ 1.8/7.7 MB 12.4 MB/s eta 0:00:01\n",
      "   ------------ --------------------------- 2.4/7.7 MB 12.9 MB/s eta 0:00:01\n",
      "   --------------- ------------------------ 3.1/7.7 MB 13.0 MB/s eta 0:00:01\n",
      "   ------------------ --------------------- 3.6/7.7 MB 12.8 MB/s eta 0:00:01\n",
      "   ---------------------- ----------------- 4.3/7.7 MB 13.1 MB/s eta 0:00:01\n",
      "   ------------------------- -------------- 4.9/7.7 MB 13.0 MB/s eta 0:00:01\n",
      "   -------------------------- ------------- 5.2/7.7 MB 12.2 MB/s eta 0:00:01\n",
      "   ---------------------------- ----------- 5.4/7.7 MB 11.8 MB/s eta 0:00:01\n",
      "   ---------------------------- ----------- 5.5/7.7 MB 10.6 MB/s eta 0:00:01\n",
      "   --------------------------------- ------ 6.4/7.7 MB 11.3 MB/s eta 0:00:01\n",
      "   ------------------------------------ --- 7.0/7.7 MB 11.4 MB/s eta 0:00:01\n",
      "   ---------------------------------------  7.6/7.7 MB 11.6 MB/s eta 0:00:01\n",
      "   ---------------------------------------- 7.7/7.7 MB 11.1 MB/s eta 0:00:00\n",
      "Downloading contourpy-1.2.1-cp310-cp310-win_amd64.whl (187 kB)\n",
      "   ---------------------------------------- 0.0/187.5 kB ? eta -:--:--\n",
      "   ---------------------------------------- 187.5/187.5 kB ? eta 0:00:00\n",
      "Using cached cycler-0.12.1-py3-none-any.whl (8.3 kB)\n",
      "Downloading fonttools-4.51.0-cp310-cp310-win_amd64.whl (2.2 MB)\n",
      "   ---------------------------------------- 0.0/2.2 MB ? eta -:--:--\n",
      "   -------------- ------------------------- 0.8/2.2 MB 17.2 MB/s eta 0:00:01\n",
      "   -------------------------- ------------- 1.5/2.2 MB 15.6 MB/s eta 0:00:01\n",
      "   -------------------------------------- - 2.1/2.2 MB 14.7 MB/s eta 0:00:01\n",
      "   ---------------------------------------- 2.2/2.2 MB 13.9 MB/s eta 0:00:00\n",
      "Using cached kiwisolver-1.4.5-cp310-cp310-win_amd64.whl (56 kB)\n",
      "Using cached pyparsing-3.1.2-py3-none-any.whl (103 kB)\n",
      "Installing collected packages: pyparsing, kiwisolver, fonttools, cycler, contourpy, matplotlib\n",
      "Successfully installed contourpy-1.2.1 cycler-0.12.1 fonttools-4.51.0 kiwisolver-1.4.5 matplotlib-3.8.4 pyparsing-3.1.2\n"
     ]
    }
   ],
   "source": [
    "!pip install matplotlib"
   ]
  },
  {
   "cell_type": "markdown",
   "id": "c0a39fe0-2d8a-4868-a279-ffc5f1ebaacc",
   "metadata": {},
   "source": [
    "Now, we are able to import `matplotlib`. The reason we do not have to do the same with `numpy` is that it is a dependency of `drfp`, and therefore, was automatically installed together with `drfp`."
   ]
  },
  {
   "cell_type": "code",
   "execution_count": 12,
   "id": "4b1e9f9d-3d0a-44df-9fd3-ad42b3c86d62",
   "metadata": {},
   "outputs": [],
   "source": [
    "import matplotlib.pyplot as plt\n",
    "import numpy as np"
   ]
  },
  {
   "cell_type": "code",
   "execution_count": 15,
   "id": "11c21da2-9f83-47c2-bdbe-8c385473e26e",
   "metadata": {},
   "outputs": [
    {
     "ename": "OverflowError",
     "evalue": "Python int too large to convert to C long",
     "output_type": "error",
     "traceback": [
      "\u001b[1;31m---------------------------------------------------------------------------\u001b[0m",
      "\u001b[1;31mOverflowError\u001b[0m                             Traceback (most recent call last)",
      "Cell \u001b[1;32mIn[15], line 2\u001b[0m\n\u001b[0;32m      1\u001b[0m \u001b[38;5;66;03m# To make the visualisation a bit more appealing, we will not use the 2048 dimensions but only 128.\u001b[39;00m\n\u001b[1;32m----> 2\u001b[0m fps_128 \u001b[38;5;241m=\u001b[39m \u001b[43mDrfpEncoder\u001b[49m\u001b[38;5;241;43m.\u001b[39;49m\u001b[43mencode\u001b[49m\u001b[43m(\u001b[49m\u001b[43mrxn_smiles\u001b[49m\u001b[43m,\u001b[49m\u001b[43m \u001b[49m\u001b[43mn_folded_length\u001b[49m\u001b[38;5;241;43m=\u001b[39;49m\u001b[38;5;241;43m128\u001b[39;49m\u001b[43m)\u001b[49m\n\u001b[0;32m      3\u001b[0m fps_128\n",
      "File \u001b[1;32m~\\drfp\\drfp\\src\\drfp\\fingerprint.py:342\u001b[0m, in \u001b[0;36mDrfpEncoder.encode\u001b[1;34m(X, n_folded_length, min_radius, radius, rings, mapping, atom_index_mapping, root_central_atom, include_hydrogens, show_progress_bar)\u001b[0m\n\u001b[0;32m    332\u001b[0m     hashed_diff, smiles_diff, atom_index_map \u001b[38;5;241m=\u001b[39m DrfpEncoder\u001b[38;5;241m.\u001b[39minternal_encode(\n\u001b[0;32m    333\u001b[0m         x,\n\u001b[0;32m    334\u001b[0m         min_radius\u001b[38;5;241m=\u001b[39mmin_radius,\n\u001b[1;32m   (...)\u001b[0m\n\u001b[0;32m    339\u001b[0m         include_hydrogens\u001b[38;5;241m=\u001b[39minclude_hydrogens,\n\u001b[0;32m    340\u001b[0m     )\n\u001b[0;32m    341\u001b[0m \u001b[38;5;28;01melse\u001b[39;00m:\n\u001b[1;32m--> 342\u001b[0m     hashed_diff, smiles_diff \u001b[38;5;241m=\u001b[39m \u001b[43mDrfpEncoder\u001b[49m\u001b[38;5;241;43m.\u001b[39;49m\u001b[43minternal_encode\u001b[49m\u001b[43m(\u001b[49m\n\u001b[0;32m    343\u001b[0m \u001b[43m        \u001b[49m\u001b[43mx\u001b[49m\u001b[43m,\u001b[49m\n\u001b[0;32m    344\u001b[0m \u001b[43m        \u001b[49m\u001b[43mmin_radius\u001b[49m\u001b[38;5;241;43m=\u001b[39;49m\u001b[43mmin_radius\u001b[49m\u001b[43m,\u001b[49m\n\u001b[0;32m    345\u001b[0m \u001b[43m        \u001b[49m\u001b[43mradius\u001b[49m\u001b[38;5;241;43m=\u001b[39;49m\u001b[43mradius\u001b[49m\u001b[43m,\u001b[49m\n\u001b[0;32m    346\u001b[0m \u001b[43m        \u001b[49m\u001b[43mrings\u001b[49m\u001b[38;5;241;43m=\u001b[39;49m\u001b[43mrings\u001b[49m\u001b[43m,\u001b[49m\n\u001b[0;32m    347\u001b[0m \u001b[43m        \u001b[49m\u001b[43mroot_central_atom\u001b[49m\u001b[38;5;241;43m=\u001b[39;49m\u001b[43mroot_central_atom\u001b[49m\u001b[43m,\u001b[49m\n\u001b[0;32m    348\u001b[0m \u001b[43m        \u001b[49m\u001b[43minclude_hydrogens\u001b[49m\u001b[38;5;241;43m=\u001b[39;49m\u001b[43minclude_hydrogens\u001b[49m\u001b[43m,\u001b[49m\n\u001b[0;32m    349\u001b[0m \u001b[43m    \u001b[49m\u001b[43m)\u001b[49m\n\u001b[0;32m    351\u001b[0m difference_folded, on_bits \u001b[38;5;241m=\u001b[39m DrfpEncoder\u001b[38;5;241m.\u001b[39mfold(\n\u001b[0;32m    352\u001b[0m     hashed_diff,\n\u001b[0;32m    353\u001b[0m     length\u001b[38;5;241m=\u001b[39mn_folded_length,\n\u001b[0;32m    354\u001b[0m )\n\u001b[0;32m    356\u001b[0m \u001b[38;5;28;01mif\u001b[39;00m mapping:\n",
      "File \u001b[1;32m~\\drfp\\drfp\\src\\drfp\\fingerprint.py:243\u001b[0m, in \u001b[0;36mDrfpEncoder.internal_encode\u001b[1;34m(in_smiles, radius, min_radius, rings, get_atom_indices, root_central_atom, include_hydrogens)\u001b[0m\n\u001b[0;32m    241\u001b[0m     \u001b[38;5;28;01mreturn\u001b[39;00m DrfpEncoder\u001b[38;5;241m.\u001b[39mhash(\u001b[38;5;28mlist\u001b[39m(s)), \u001b[38;5;28mlist\u001b[39m(s), atom_indices\n\u001b[0;32m    242\u001b[0m \u001b[38;5;28;01melse\u001b[39;00m:\n\u001b[1;32m--> 243\u001b[0m     \u001b[38;5;28;01mreturn\u001b[39;00m \u001b[43mDrfpEncoder\u001b[49m\u001b[38;5;241;43m.\u001b[39;49m\u001b[43mhash\u001b[49m\u001b[43m(\u001b[49m\u001b[38;5;28;43mlist\u001b[39;49m\u001b[43m(\u001b[49m\u001b[43ms\u001b[49m\u001b[43m)\u001b[49m\u001b[43m)\u001b[49m, \u001b[38;5;28mlist\u001b[39m(s)\n",
      "File \u001b[1;32m~\\drfp\\drfp\\src\\drfp\\fingerprint.py:261\u001b[0m, in \u001b[0;36mDrfpEncoder.hash\u001b[1;34m(shingling)\u001b[0m\n\u001b[0;32m    258\u001b[0m \u001b[38;5;28;01mfor\u001b[39;00m t \u001b[38;5;129;01min\u001b[39;00m shingling:\n\u001b[0;32m    259\u001b[0m     hash_values\u001b[38;5;241m.\u001b[39mappend(\u001b[38;5;28mint\u001b[39m(blake2b(t, digest_size\u001b[38;5;241m=\u001b[39m\u001b[38;5;241m4\u001b[39m)\u001b[38;5;241m.\u001b[39mhexdigest(), \u001b[38;5;241m16\u001b[39m))\n\u001b[1;32m--> 261\u001b[0m \u001b[38;5;28;01mreturn\u001b[39;00m \u001b[43mnp\u001b[49m\u001b[38;5;241;43m.\u001b[39;49m\u001b[43marray\u001b[49m\u001b[43m(\u001b[49m\u001b[43mhash_values\u001b[49m\u001b[43m,\u001b[49m\u001b[43m \u001b[49m\u001b[43mdtype\u001b[49m\u001b[38;5;241;43m=\u001b[39;49m\u001b[43mnp\u001b[49m\u001b[38;5;241;43m.\u001b[39;49m\u001b[43mint32\u001b[49m\u001b[43m)\u001b[49m\n",
      "\u001b[1;31mOverflowError\u001b[0m: Python int too large to convert to C long"
     ]
    }
   ],
   "source": [
    "# To make the visualisation a bit more appealing, we will not use the 2048 dimensions but only 128.\n",
    "fps_128 = DrfpEncoder.encode(rxn_smiles, n_folded_length=128)\n",
    "fps_128"
   ]
  },
  {
   "cell_type": "code",
   "execution_count": 21,
   "id": "d1865aad-cdb5-4f0a-9909-721ea9349b3d",
   "metadata": {},
   "outputs": [
    {
     "ename": "OverflowError",
     "evalue": "Python int too large to convert to C long",
     "output_type": "error",
     "traceback": [
      "\u001b[1;31m---------------------------------------------------------------------------\u001b[0m",
      "\u001b[1;31mOverflowError\u001b[0m                             Traceback (most recent call last)",
      "Cell \u001b[1;32mIn[21], line 2\u001b[0m\n\u001b[0;32m      1\u001b[0m \u001b[38;5;66;03m# Convert list of fingerprints into a 2D NumPy array\u001b[39;00m\n\u001b[1;32m----> 2\u001b[0m fps_128 \u001b[38;5;241m=\u001b[39m \u001b[43mDrfpEncoder\u001b[49m\u001b[38;5;241;43m.\u001b[39;49m\u001b[43mencode\u001b[49m\u001b[43m(\u001b[49m\u001b[43mrxn_smiles\u001b[49m\u001b[43m,\u001b[49m\u001b[43m \u001b[49m\u001b[43mn_folded_length\u001b[49m\u001b[38;5;241;43m=\u001b[39;49m\u001b[38;5;241;43m8\u001b[39;49m\u001b[43m)\u001b[49m\n\u001b[0;32m      3\u001b[0m arrays_2d \u001b[38;5;241m=\u001b[39m np\u001b[38;5;241m.\u001b[39marray(fps_128)\n\u001b[0;32m      5\u001b[0m \u001b[38;5;66;03m# Visualize the arrays\u001b[39;00m\n",
      "File \u001b[1;32m~\\drfp\\drfp\\src\\drfp\\fingerprint.py:342\u001b[0m, in \u001b[0;36mDrfpEncoder.encode\u001b[1;34m(X, n_folded_length, min_radius, radius, rings, mapping, atom_index_mapping, root_central_atom, include_hydrogens, show_progress_bar)\u001b[0m\n\u001b[0;32m    332\u001b[0m     hashed_diff, smiles_diff, atom_index_map \u001b[38;5;241m=\u001b[39m DrfpEncoder\u001b[38;5;241m.\u001b[39minternal_encode(\n\u001b[0;32m    333\u001b[0m         x,\n\u001b[0;32m    334\u001b[0m         min_radius\u001b[38;5;241m=\u001b[39mmin_radius,\n\u001b[1;32m   (...)\u001b[0m\n\u001b[0;32m    339\u001b[0m         include_hydrogens\u001b[38;5;241m=\u001b[39minclude_hydrogens,\n\u001b[0;32m    340\u001b[0m     )\n\u001b[0;32m    341\u001b[0m \u001b[38;5;28;01melse\u001b[39;00m:\n\u001b[1;32m--> 342\u001b[0m     hashed_diff, smiles_diff \u001b[38;5;241m=\u001b[39m \u001b[43mDrfpEncoder\u001b[49m\u001b[38;5;241;43m.\u001b[39;49m\u001b[43minternal_encode\u001b[49m\u001b[43m(\u001b[49m\n\u001b[0;32m    343\u001b[0m \u001b[43m        \u001b[49m\u001b[43mx\u001b[49m\u001b[43m,\u001b[49m\n\u001b[0;32m    344\u001b[0m \u001b[43m        \u001b[49m\u001b[43mmin_radius\u001b[49m\u001b[38;5;241;43m=\u001b[39;49m\u001b[43mmin_radius\u001b[49m\u001b[43m,\u001b[49m\n\u001b[0;32m    345\u001b[0m \u001b[43m        \u001b[49m\u001b[43mradius\u001b[49m\u001b[38;5;241;43m=\u001b[39;49m\u001b[43mradius\u001b[49m\u001b[43m,\u001b[49m\n\u001b[0;32m    346\u001b[0m \u001b[43m        \u001b[49m\u001b[43mrings\u001b[49m\u001b[38;5;241;43m=\u001b[39;49m\u001b[43mrings\u001b[49m\u001b[43m,\u001b[49m\n\u001b[0;32m    347\u001b[0m \u001b[43m        \u001b[49m\u001b[43mroot_central_atom\u001b[49m\u001b[38;5;241;43m=\u001b[39;49m\u001b[43mroot_central_atom\u001b[49m\u001b[43m,\u001b[49m\n\u001b[0;32m    348\u001b[0m \u001b[43m        \u001b[49m\u001b[43minclude_hydrogens\u001b[49m\u001b[38;5;241;43m=\u001b[39;49m\u001b[43minclude_hydrogens\u001b[49m\u001b[43m,\u001b[49m\n\u001b[0;32m    349\u001b[0m \u001b[43m    \u001b[49m\u001b[43m)\u001b[49m\n\u001b[0;32m    351\u001b[0m difference_folded, on_bits \u001b[38;5;241m=\u001b[39m DrfpEncoder\u001b[38;5;241m.\u001b[39mfold(\n\u001b[0;32m    352\u001b[0m     hashed_diff,\n\u001b[0;32m    353\u001b[0m     length\u001b[38;5;241m=\u001b[39mn_folded_length,\n\u001b[0;32m    354\u001b[0m )\n\u001b[0;32m    356\u001b[0m \u001b[38;5;28;01mif\u001b[39;00m mapping:\n",
      "File \u001b[1;32m~\\drfp\\drfp\\src\\drfp\\fingerprint.py:243\u001b[0m, in \u001b[0;36mDrfpEncoder.internal_encode\u001b[1;34m(in_smiles, radius, min_radius, rings, get_atom_indices, root_central_atom, include_hydrogens)\u001b[0m\n\u001b[0;32m    241\u001b[0m     \u001b[38;5;28;01mreturn\u001b[39;00m DrfpEncoder\u001b[38;5;241m.\u001b[39mhash(\u001b[38;5;28mlist\u001b[39m(s)), \u001b[38;5;28mlist\u001b[39m(s), atom_indices\n\u001b[0;32m    242\u001b[0m \u001b[38;5;28;01melse\u001b[39;00m:\n\u001b[1;32m--> 243\u001b[0m     \u001b[38;5;28;01mreturn\u001b[39;00m \u001b[43mDrfpEncoder\u001b[49m\u001b[38;5;241;43m.\u001b[39;49m\u001b[43mhash\u001b[49m\u001b[43m(\u001b[49m\u001b[38;5;28;43mlist\u001b[39;49m\u001b[43m(\u001b[49m\u001b[43ms\u001b[49m\u001b[43m)\u001b[49m\u001b[43m)\u001b[49m, \u001b[38;5;28mlist\u001b[39m(s)\n",
      "File \u001b[1;32m~\\drfp\\drfp\\src\\drfp\\fingerprint.py:261\u001b[0m, in \u001b[0;36mDrfpEncoder.hash\u001b[1;34m(shingling)\u001b[0m\n\u001b[0;32m    258\u001b[0m \u001b[38;5;28;01mfor\u001b[39;00m t \u001b[38;5;129;01min\u001b[39;00m shingling:\n\u001b[0;32m    259\u001b[0m     hash_values\u001b[38;5;241m.\u001b[39mappend(\u001b[38;5;28mint\u001b[39m(blake2b(t, digest_size\u001b[38;5;241m=\u001b[39m\u001b[38;5;241m4\u001b[39m)\u001b[38;5;241m.\u001b[39mhexdigest(), \u001b[38;5;241m16\u001b[39m))\n\u001b[1;32m--> 261\u001b[0m \u001b[38;5;28;01mreturn\u001b[39;00m \u001b[43mnp\u001b[49m\u001b[38;5;241;43m.\u001b[39;49m\u001b[43marray\u001b[49m\u001b[43m(\u001b[49m\u001b[43mhash_values\u001b[49m\u001b[43m,\u001b[49m\u001b[43m \u001b[49m\u001b[43mdtype\u001b[49m\u001b[38;5;241;43m=\u001b[39;49m\u001b[43mnp\u001b[49m\u001b[38;5;241;43m.\u001b[39;49m\u001b[43mint32\u001b[49m\u001b[43m)\u001b[49m\n",
      "\u001b[1;31mOverflowError\u001b[0m: Python int too large to convert to C long"
     ]
    }
   ],
   "source": [
    "# Convert list of fingerprints into a 2D NumPy array\n",
    "fps_128 = DrfpEncoder.encode(rxn_smiles, n_folded_length=8)\n",
    "arrays_2d = np.array(fps_128)\n",
    "\n",
    "# Visualize the arrays\n",
    "plt.figure(figsize=(20, 2))  # Adjust the figsize as necessary\n",
    "plt.imshow(arrays_2d, aspect='auto', cmap='viridis')\n",
    "plt.colorbar(label='Value')\n",
    "plt.yticks(ticks=np.arange(len(fps_128)), labels=[f'RXN {i+1}' for i in range(len(fps_128))])\n",
    "plt.xlabel('Index')\n",
    "plt.show()"
   ]
  },
  {
   "cell_type": "code",
   "execution_count": null,
   "id": "df60252b-b2df-4dbc-9529-5231c919fde2",
   "metadata": {},
   "outputs": [],
   "source": []
  }
 ],
 "metadata": {
  "kernelspec": {
   "display_name": "Python 3 (ipykernel)",
   "language": "python",
   "name": "python3"
  },
  "language_info": {
   "codemirror_mode": {
    "name": "ipython",
    "version": 3
   },
   "file_extension": ".py",
   "mimetype": "text/x-python",
   "name": "python",
   "nbconvert_exporter": "python",
   "pygments_lexer": "ipython3",
   "version": "3.10.14"
  }
 },
 "nbformat": 4,
 "nbformat_minor": 5
}
